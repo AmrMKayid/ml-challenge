{
  "nbformat": 4,
  "nbformat_minor": 0,
  "metadata": {
    "colab": {
      "name": "Copy of Copy of Novoic ML challenge",
      "provenance": [],
      "collapsed_sections": [],
      "toc_visible": true,
      "mount_file_id": "https://github.com/novoic/ml-challenge/blob/master/kernel.ipynb",
      "authorship_tag": "ABX9TyPJsryx+8tsLIQe3Ngsr8Ii",
      "include_colab_link": true
    },
    "kernelspec": {
      "name": "python3",
      "display_name": "Python 3"
    },
    "accelerator": "GPU"
  },
  "cells": [
    {
      "cell_type": "markdown",
      "metadata": {
        "id": "view-in-github",
        "colab_type": "text"
      },
      "source": [
        "<a href=\"https://colab.research.google.com/github/novoic/ml-challenge/blob/master/audio_challenge.ipynb\" target=\"_parent\"><img src=\"https://colab.research.google.com/assets/colab-badge.svg\" alt=\"Open In Colab\"/></a>"
      ]
    },
    {
      "cell_type": "markdown",
      "metadata": {
        "id": "NOHLZHtggQtk",
        "colab_type": "text"
      },
      "source": [
        "<img src=\"https://novoic.com/wp-content/uploads/2019/10/logo_320px.png\" alt=\"Novoic logo\" width=\"160\"/>\n",
        "\n",
        "# Novoic ML challenge – audio data"
      ]
    },
    {
      "cell_type": "markdown",
      "metadata": {
        "colab_type": "text",
        "id": "zlll6t_8M5fy"
      },
      "source": [
        "## Introduction\n",
        "Welcome to the Novoic ML challenge!\n",
        "\n",
        "This is an open-ended ML challenge to help us identify exceptional researchers and engineers. The guidance below describes an open-source dataset that you can use to demonstrate your research skills, creativity, coding ability, scientific communication or anything else you think is important to the role.\n",
        "\n",
        "Before starting the challenge, go ahead and read our CEO's [Medium post](https://medium.com/@emil_45669/the-doctor-is-ready-to-see-you-tube-videos-716b12367feb) on what we're looking for in our Research Scientists, Research Engineers and ML Interns. We recommend you spend around three hours on this (more or less if you wish), which you do not have to do in one go. Please make use of any resources you like.\n",
        "\n",
        "This is the audio version of the challenge. Also available are text and image versions. You can access all three from [this GitHub repo](https://github.com/novoic/ml-challenge).\n",
        "\n",
        "Best of luck – we're looking forward to seeing what you can do!"
      ]
    },
    {
      "cell_type": "markdown",
      "metadata": {
        "id": "GUJZyzMB_2TA",
        "colab_type": "text"
      },
      "source": [
        "## Prepare the data\n",
        "Copy the dataset to a local directory – this should take around 10 minutes."
      ]
    },
    {
      "cell_type": "code",
      "metadata": {
        "id": "AaRNBDz4nN1t",
        "colab_type": "code",
        "colab": {}
      },
      "source": [
        "!mkdir -p data\n",
        "!gsutil -m cp -r gs://novoic-ml-challenge-data/* ./data"
      ],
      "execution_count": 0,
      "outputs": []
    },
    {
      "cell_type": "markdown",
      "metadata": {
        "id": "BpJ7NOCXkCKs",
        "colab_type": "text"
      },
      "source": [
        "## Data description\n",
        "\n",
        "The data comprises 23,682 audio files in wav format. Each file is about 1 second in length and contains one word from: up, down, left, right, yes, no, on, off, stop, go.\n",
        "\n",
        "The audio files are organized into folders based on the word they contain. The files are not uniquely named across labels, but they are unique if you include the label folder. For example, `0137b3f4_nohash_2.wav` is found in multiple folders but contains a different speech command in each.\n"
      ]
    },
    {
      "cell_type": "code",
      "metadata": {
        "id": "muZyXMc8rbAK",
        "colab_type": "code",
        "colab": {}
      },
      "source": [
        "import IPython \n",
        "IPython.display.Audio(filename='data/down/0137b3f4_nohash_2.wav')"
      ],
      "execution_count": 0,
      "outputs": []
    },
    {
      "cell_type": "code",
      "metadata": {
        "id": "6Ey4KqN1uBqN",
        "colab_type": "code",
        "colab": {}
      },
      "source": [
        "IPython.display.Audio(filename='data/no/0137b3f4_nohash_2.wav')"
      ],
      "execution_count": 0,
      "outputs": []
    },
    {
      "cell_type": "markdown",
      "metadata": {
        "id": "UeYkLol_rZoT",
        "colab_type": "text"
      },
      "source": [
        "\n",
        "The files are named such that the first element (e.g. `0137b3f4`) is the subject id of the person who gave the voice command, and the last element (e.g. `2`) indicates the index of a possibly repeated command. Each participant submitted one or more recordings of each word.\n",
        "\n",
        "You can expect some inconsistencies in the properties of the training data (e.g. length of audio or its content).\n",
        "\n",
        "For more information about the dataset, see its `README.md`.\n",
        "\n",
        "Directory structure:\n",
        "```\n",
        "├── data\n",
        "│   ├── up        # dir for 'up' files\n",
        "│   ├── down      # dir for 'down' files\n",
        "│   ├── left      # dir for 'left' files\n",
        "│   ├── right     # dir for 'right' files\n",
        "│   ├── yes       # dir for 'yes' files\n",
        "│   ├── no        # dir for 'no' files\n",
        "│   ├── on        # dir for 'on' files\n",
        "│   ├── off       # dir for 'off' files\n",
        "│   ├── stop      # dir for 'stop' files\n",
        "│   ├── go        # dir for 'go' files\n",
        "│   ├── LICENSE\n",
        "│   └── README.md\n",
        "└── kernel.ipynb  # this ipynb\n",
        "```\n",
        "\n",
        "\n",
        "\n",
        "\n"
      ]
    },
    {
      "cell_type": "markdown",
      "metadata": {
        "id": "K7x5PwDaFDdy",
        "colab_type": "text"
      },
      "source": [
        "## The challenge\n",
        "This is an open-ended challenge and we want to witness your creativity. Some obvious suggestions:\n",
        "- Data exploration/visualization\n",
        "- Binary/multiclass classifier\n",
        "- Anomaly detection\n",
        "\n",
        "You're welcome to explore one or more of these topics, or do something entirely different.\n",
        "\n",
        "Create, iterate on, and validate your work in this notebook, using any packages of your choosing.\n",
        "\n",
        "**You can access a GPU via `Runtime -> Change runtime type` in the toolbar.**\n",
        "\n",
        "## Submission instructions\n",
        "Once you're done, send this `.ipynb` notebook (or a link to it hosted on Google Drive/GitHub with appropriate permissions) to talent@novoic.com, ensuring that outputs from cells (text, plots etc) are preserved.\n",
        "\n",
        "If you haven't applied already, make sure you submit an application first through our [job board](https://novoic.com/careers/)."
      ]
    },
    {
      "cell_type": "markdown",
      "metadata": {
        "id": "VXJdZxNrK008",
        "colab_type": "text"
      },
      "source": [
        "## Your submission\n",
        "The below sets up TensorFlow as an example but feel free to use any framework you like."
      ]
    },
    {
      "cell_type": "code",
      "metadata": {
        "id": "t7A3vYU3LRz_",
        "colab_type": "code",
        "colab": {}
      },
      "source": [
        "# The default TensorFlow version on Colab is 1.x. Uncomment the below to use TensorFlow 2.x instead.\n",
        "# %tensorflow_version 2.x"
      ],
      "execution_count": 0,
      "outputs": []
    },
    {
      "cell_type": "code",
      "metadata": {
        "id": "d_-0bsdzK6sy",
        "colab_type": "code",
        "colab": {}
      },
      "source": [
        "import tensorflow as tf\n",
        "tf.__version__"
      ],
      "execution_count": 0,
      "outputs": []
    },
    {
      "cell_type": "markdown",
      "metadata": {
        "id": "Y8PoDC7xLkU4",
        "colab_type": "text"
      },
      "source": [
        "Take the wheel!"
      ]
    }
  ]
}