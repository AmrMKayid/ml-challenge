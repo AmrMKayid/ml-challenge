{
  "nbformat": 4,
  "nbformat_minor": 0,
  "metadata": {
    "colab": {
      "name": "Novoic ML challenge",
      "provenance": [],
      "collapsed_sections": [],
      "authorship_tag": "ABX9TyNp1h606lb+xdlr9O1UWt3S"
    },
    "kernelspec": {
      "name": "python3",
      "display_name": "Python 3"
    },
    "accelerator": "GPU"
  },
  "cells": [
    {
      "cell_type": "markdown",
      "metadata": {
        "id": "NOHLZHtggQtk",
        "colab_type": "text"
      },
      "source": [
        "# Novoic ML challenge"
      ]
    },
    {
      "cell_type": "markdown",
      "metadata": {
        "id": "BpJ7NOCXkCKs",
        "colab_type": "text"
      },
      "source": [
        "Directory structure:\n",
        "```\n",
        "├── data\n",
        "│   ├── bed       # dir for 'bed' command wav files\n",
        "│   ├── bird      # dir for 'bird' command wav files\n",
        "│   └── ...       # etc\n",
        "├── kernel.ipynb  # this ipynb\n",
        "├── LICENSE\n",
        "└── README.md\n",
        "```\n",
        "\n"
      ]
    }
  ]
}